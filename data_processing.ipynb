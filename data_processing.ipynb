{
 "cells": [
  {
   "cell_type": "markdown",
   "id": "f362115e",
   "metadata": {},
   "source": [
    "## Load Data sets:"
   ]
  },
  {
   "cell_type": "code",
   "execution_count": 1,
   "outputs": [],
   "source": [
    "import util as util"
   ],
   "metadata": {
    "collapsed": false,
    "pycharm": {
     "name": "#%%\n"
    }
   }
  },
  {
   "cell_type": "code",
   "execution_count": 2,
   "id": "6db08438",
   "metadata": {},
   "outputs": [],
   "source": [
    "import matplotlib as plt\n",
    "import pandas as pd\n",
    "import numpy as np"
   ]
  },
  {
   "cell_type": "code",
   "execution_count": 3,
   "outputs": [],
   "source": [
    "multi = util.load_multi_data(5)"
   ],
   "metadata": {
    "collapsed": false,
    "pycharm": {
     "name": "#%%\n"
    }
   }
  },
  {
   "cell_type": "code",
   "execution_count": 4,
   "outputs": [
    {
     "data": {
      "text/plain": "        value_id  sensor_id                   timestamp  value   time\n0         315318       6222  2020-02-26 11:22:36.417725  17.78  40956\n1         315319       6223  2020-02-26 11:22:36.426686  26.51  40956\n2         315320       6223  2020-02-26 19:36:36.586117  27.27  70596\n3         315321       6222  2020-02-26 19:36:36.657636  51.52  70596\n4         315322       6223  2020-02-26 19:36:37.704286  27.26  70597\n...          ...        ...                         ...    ...    ...\n499996   3349693       6636  2020-03-27 18:21:47.818963   0.00  66107\n499997   3349694       6634  2020-03-27 18:21:48.167419   0.00  66108\n499998   3349695       6635  2020-03-27 18:21:48.341508   0.00  66108\n499999   3349696       6633  2020-03-27 18:21:48.898139   0.00  66108\n500000   3349697       6632  2020-03-27 18:21:49.043434   0.00  66109\n\n[2500004 rows x 5 columns]",
      "text/html": "<div>\n<style scoped>\n    .dataframe tbody tr th:only-of-type {\n        vertical-align: middle;\n    }\n\n    .dataframe tbody tr th {\n        vertical-align: top;\n    }\n\n    .dataframe thead th {\n        text-align: right;\n    }\n</style>\n<table border=\"1\" class=\"dataframe\">\n  <thead>\n    <tr style=\"text-align: right;\">\n      <th></th>\n      <th>value_id</th>\n      <th>sensor_id</th>\n      <th>timestamp</th>\n      <th>value</th>\n      <th>time</th>\n    </tr>\n  </thead>\n  <tbody>\n    <tr>\n      <th>0</th>\n      <td>315318</td>\n      <td>6222</td>\n      <td>2020-02-26 11:22:36.417725</td>\n      <td>17.78</td>\n      <td>40956</td>\n    </tr>\n    <tr>\n      <th>1</th>\n      <td>315319</td>\n      <td>6223</td>\n      <td>2020-02-26 11:22:36.426686</td>\n      <td>26.51</td>\n      <td>40956</td>\n    </tr>\n    <tr>\n      <th>2</th>\n      <td>315320</td>\n      <td>6223</td>\n      <td>2020-02-26 19:36:36.586117</td>\n      <td>27.27</td>\n      <td>70596</td>\n    </tr>\n    <tr>\n      <th>3</th>\n      <td>315321</td>\n      <td>6222</td>\n      <td>2020-02-26 19:36:36.657636</td>\n      <td>51.52</td>\n      <td>70596</td>\n    </tr>\n    <tr>\n      <th>4</th>\n      <td>315322</td>\n      <td>6223</td>\n      <td>2020-02-26 19:36:37.704286</td>\n      <td>27.26</td>\n      <td>70597</td>\n    </tr>\n    <tr>\n      <th>...</th>\n      <td>...</td>\n      <td>...</td>\n      <td>...</td>\n      <td>...</td>\n      <td>...</td>\n    </tr>\n    <tr>\n      <th>499996</th>\n      <td>3349693</td>\n      <td>6636</td>\n      <td>2020-03-27 18:21:47.818963</td>\n      <td>0.00</td>\n      <td>66107</td>\n    </tr>\n    <tr>\n      <th>499997</th>\n      <td>3349694</td>\n      <td>6634</td>\n      <td>2020-03-27 18:21:48.167419</td>\n      <td>0.00</td>\n      <td>66108</td>\n    </tr>\n    <tr>\n      <th>499998</th>\n      <td>3349695</td>\n      <td>6635</td>\n      <td>2020-03-27 18:21:48.341508</td>\n      <td>0.00</td>\n      <td>66108</td>\n    </tr>\n    <tr>\n      <th>499999</th>\n      <td>3349696</td>\n      <td>6633</td>\n      <td>2020-03-27 18:21:48.898139</td>\n      <td>0.00</td>\n      <td>66108</td>\n    </tr>\n    <tr>\n      <th>500000</th>\n      <td>3349697</td>\n      <td>6632</td>\n      <td>2020-03-27 18:21:49.043434</td>\n      <td>0.00</td>\n      <td>66109</td>\n    </tr>\n  </tbody>\n</table>\n<p>2500004 rows × 5 columns</p>\n</div>"
     },
     "execution_count": 4,
     "metadata": {},
     "output_type": "execute_result"
    }
   ],
   "source": [
    "multi"
   ],
   "metadata": {
    "collapsed": false,
    "pycharm": {
     "name": "#%%\n"
    }
   }
  },
  {
   "cell_type": "code",
   "execution_count": 5,
   "outputs": [],
   "source": [
    "aras = util.load_aras(\"HouseA\", 2)"
   ],
   "metadata": {
    "collapsed": false,
    "pycharm": {
     "name": "#%%\n"
    }
   }
  },
  {
   "cell_type": "code",
   "execution_count": 6,
   "outputs": [
    {
     "data": {
      "text/plain": "       0  1  2  3  4  5  6  7  8  9  ...  13  14  15  16  17  18  19  20  21  \\\n0      0  0  0  0  0  0  0  0  0  0  ...   0   0   0   0   0   0   0  12  17   \n1      0  0  0  0  0  0  0  0  0  0  ...   0   0   0   0   0   0   0  12  17   \n2      0  0  0  0  0  0  0  0  0  0  ...   0   0   0   0   0   0   0  12  17   \n3      0  0  0  0  0  0  0  0  0  0  ...   0   0   0   0   0   0   0  12  17   \n4      0  0  0  0  0  0  0  0  0  0  ...   0   0   0   0   0   0   0  12  17   \n...   .. .. .. .. .. .. .. .. .. ..  ...  ..  ..  ..  ..  ..  ..  ..  ..  ..   \n86395  0  0  0  0  0  0  1  0  0  0  ...   0   0   0   0   0   0   0  17   2   \n86396  0  0  0  0  0  0  1  0  0  0  ...   0   0   0   0   0   0   0  17   2   \n86397  0  0  0  0  0  0  1  0  0  0  ...   0   0   0   0   0   0   0  17   2   \n86398  0  0  0  0  0  0  1  0  0  0  ...   0   0   0   0   0   0   0  17   2   \n86399  0  0  0  0  0  0  1  0  0  0  ...   0   0   0   0   0   0   0  17   2   \n\n        time  \n0          1  \n1          2  \n2          3  \n3          4  \n4          5  \n...      ...  \n86395  86396  \n86396  86397  \n86397  86398  \n86398  86399  \n86399  86400  \n\n[172800 rows x 23 columns]",
      "text/html": "<div>\n<style scoped>\n    .dataframe tbody tr th:only-of-type {\n        vertical-align: middle;\n    }\n\n    .dataframe tbody tr th {\n        vertical-align: top;\n    }\n\n    .dataframe thead th {\n        text-align: right;\n    }\n</style>\n<table border=\"1\" class=\"dataframe\">\n  <thead>\n    <tr style=\"text-align: right;\">\n      <th></th>\n      <th>0</th>\n      <th>1</th>\n      <th>2</th>\n      <th>3</th>\n      <th>4</th>\n      <th>5</th>\n      <th>6</th>\n      <th>7</th>\n      <th>8</th>\n      <th>9</th>\n      <th>...</th>\n      <th>13</th>\n      <th>14</th>\n      <th>15</th>\n      <th>16</th>\n      <th>17</th>\n      <th>18</th>\n      <th>19</th>\n      <th>20</th>\n      <th>21</th>\n      <th>time</th>\n    </tr>\n  </thead>\n  <tbody>\n    <tr>\n      <th>0</th>\n      <td>0</td>\n      <td>0</td>\n      <td>0</td>\n      <td>0</td>\n      <td>0</td>\n      <td>0</td>\n      <td>0</td>\n      <td>0</td>\n      <td>0</td>\n      <td>0</td>\n      <td>...</td>\n      <td>0</td>\n      <td>0</td>\n      <td>0</td>\n      <td>0</td>\n      <td>0</td>\n      <td>0</td>\n      <td>0</td>\n      <td>12</td>\n      <td>17</td>\n      <td>1</td>\n    </tr>\n    <tr>\n      <th>1</th>\n      <td>0</td>\n      <td>0</td>\n      <td>0</td>\n      <td>0</td>\n      <td>0</td>\n      <td>0</td>\n      <td>0</td>\n      <td>0</td>\n      <td>0</td>\n      <td>0</td>\n      <td>...</td>\n      <td>0</td>\n      <td>0</td>\n      <td>0</td>\n      <td>0</td>\n      <td>0</td>\n      <td>0</td>\n      <td>0</td>\n      <td>12</td>\n      <td>17</td>\n      <td>2</td>\n    </tr>\n    <tr>\n      <th>2</th>\n      <td>0</td>\n      <td>0</td>\n      <td>0</td>\n      <td>0</td>\n      <td>0</td>\n      <td>0</td>\n      <td>0</td>\n      <td>0</td>\n      <td>0</td>\n      <td>0</td>\n      <td>...</td>\n      <td>0</td>\n      <td>0</td>\n      <td>0</td>\n      <td>0</td>\n      <td>0</td>\n      <td>0</td>\n      <td>0</td>\n      <td>12</td>\n      <td>17</td>\n      <td>3</td>\n    </tr>\n    <tr>\n      <th>3</th>\n      <td>0</td>\n      <td>0</td>\n      <td>0</td>\n      <td>0</td>\n      <td>0</td>\n      <td>0</td>\n      <td>0</td>\n      <td>0</td>\n      <td>0</td>\n      <td>0</td>\n      <td>...</td>\n      <td>0</td>\n      <td>0</td>\n      <td>0</td>\n      <td>0</td>\n      <td>0</td>\n      <td>0</td>\n      <td>0</td>\n      <td>12</td>\n      <td>17</td>\n      <td>4</td>\n    </tr>\n    <tr>\n      <th>4</th>\n      <td>0</td>\n      <td>0</td>\n      <td>0</td>\n      <td>0</td>\n      <td>0</td>\n      <td>0</td>\n      <td>0</td>\n      <td>0</td>\n      <td>0</td>\n      <td>0</td>\n      <td>...</td>\n      <td>0</td>\n      <td>0</td>\n      <td>0</td>\n      <td>0</td>\n      <td>0</td>\n      <td>0</td>\n      <td>0</td>\n      <td>12</td>\n      <td>17</td>\n      <td>5</td>\n    </tr>\n    <tr>\n      <th>...</th>\n      <td>...</td>\n      <td>...</td>\n      <td>...</td>\n      <td>...</td>\n      <td>...</td>\n      <td>...</td>\n      <td>...</td>\n      <td>...</td>\n      <td>...</td>\n      <td>...</td>\n      <td>...</td>\n      <td>...</td>\n      <td>...</td>\n      <td>...</td>\n      <td>...</td>\n      <td>...</td>\n      <td>...</td>\n      <td>...</td>\n      <td>...</td>\n      <td>...</td>\n      <td>...</td>\n    </tr>\n    <tr>\n      <th>86395</th>\n      <td>0</td>\n      <td>0</td>\n      <td>0</td>\n      <td>0</td>\n      <td>0</td>\n      <td>0</td>\n      <td>1</td>\n      <td>0</td>\n      <td>0</td>\n      <td>0</td>\n      <td>...</td>\n      <td>0</td>\n      <td>0</td>\n      <td>0</td>\n      <td>0</td>\n      <td>0</td>\n      <td>0</td>\n      <td>0</td>\n      <td>17</td>\n      <td>2</td>\n      <td>86396</td>\n    </tr>\n    <tr>\n      <th>86396</th>\n      <td>0</td>\n      <td>0</td>\n      <td>0</td>\n      <td>0</td>\n      <td>0</td>\n      <td>0</td>\n      <td>1</td>\n      <td>0</td>\n      <td>0</td>\n      <td>0</td>\n      <td>...</td>\n      <td>0</td>\n      <td>0</td>\n      <td>0</td>\n      <td>0</td>\n      <td>0</td>\n      <td>0</td>\n      <td>0</td>\n      <td>17</td>\n      <td>2</td>\n      <td>86397</td>\n    </tr>\n    <tr>\n      <th>86397</th>\n      <td>0</td>\n      <td>0</td>\n      <td>0</td>\n      <td>0</td>\n      <td>0</td>\n      <td>0</td>\n      <td>1</td>\n      <td>0</td>\n      <td>0</td>\n      <td>0</td>\n      <td>...</td>\n      <td>0</td>\n      <td>0</td>\n      <td>0</td>\n      <td>0</td>\n      <td>0</td>\n      <td>0</td>\n      <td>0</td>\n      <td>17</td>\n      <td>2</td>\n      <td>86398</td>\n    </tr>\n    <tr>\n      <th>86398</th>\n      <td>0</td>\n      <td>0</td>\n      <td>0</td>\n      <td>0</td>\n      <td>0</td>\n      <td>0</td>\n      <td>1</td>\n      <td>0</td>\n      <td>0</td>\n      <td>0</td>\n      <td>...</td>\n      <td>0</td>\n      <td>0</td>\n      <td>0</td>\n      <td>0</td>\n      <td>0</td>\n      <td>0</td>\n      <td>0</td>\n      <td>17</td>\n      <td>2</td>\n      <td>86399</td>\n    </tr>\n    <tr>\n      <th>86399</th>\n      <td>0</td>\n      <td>0</td>\n      <td>0</td>\n      <td>0</td>\n      <td>0</td>\n      <td>0</td>\n      <td>1</td>\n      <td>0</td>\n      <td>0</td>\n      <td>0</td>\n      <td>...</td>\n      <td>0</td>\n      <td>0</td>\n      <td>0</td>\n      <td>0</td>\n      <td>0</td>\n      <td>0</td>\n      <td>0</td>\n      <td>17</td>\n      <td>2</td>\n      <td>86400</td>\n    </tr>\n  </tbody>\n</table>\n<p>172800 rows × 23 columns</p>\n</div>"
     },
     "execution_count": 6,
     "metadata": {},
     "output_type": "execute_result"
    }
   ],
   "source": [
    "aras"
   ],
   "metadata": {
    "collapsed": false,
    "pycharm": {
     "name": "#%%\n"
    }
   }
  },
  {
   "cell_type": "code",
   "execution_count": null,
   "outputs": [],
   "source": [
    "[0, 86400]\n",
    "36 + 22*60 + 11*60*60"
   ],
   "metadata": {
    "collapsed": false,
    "pycharm": {
     "name": "#%%\n"
    }
   }
  }
 ],
 "metadata": {
  "kernelspec": {
   "display_name": "Python 3",
   "language": "python",
   "name": "python3"
  },
  "language_info": {
   "codemirror_mode": {
    "name": "ipython",
    "version": 3
   },
   "file_extension": ".py",
   "mimetype": "text/x-python",
   "name": "python",
   "nbconvert_exporter": "python",
   "pygments_lexer": "ipython3",
   "version": "3.8.8"
  }
 },
 "nbformat": 4,
 "nbformat_minor": 5
}